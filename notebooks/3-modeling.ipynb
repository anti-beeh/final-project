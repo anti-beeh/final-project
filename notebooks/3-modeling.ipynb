{
 "cells": [
  {
   "cell_type": "code",
   "execution_count": 78,
   "metadata": {},
   "outputs": [],
   "source": [
    "import pandas as pd\n",
    "from sklearn.impute import SimpleImputer\n",
    "import numpy as np\n",
    "\n",
    "from sklearn.ensemble import RandomForestClassifier, BaggingClassifier\n",
    "from sklearn.tree import DecisionTreeClassifier\n",
    "from sklearn.neighbors import KNeighborsClassifier\n",
    "\n",
    "from  sklearn.preprocessing import OrdinalEncoder\n",
    "from sklearn.model_selection import train_test_split\n",
    "from sklearn.model_selection import cross_validate\n",
    "from sklearn.model_selection import cross_val_score\n",
    "from  sklearn.metrics import *\n",
    "import matplotlib.pyplot as plt\n",
    "from sklearn.preprocessing import StandardScaler\n",
    "from sklearn import tree\n",
    "from sklearn import model_selection\n",
    "import plotly.express as px\n",
    "import rfpimp\n",
    "import pickle"
   ]
  },
  {
   "cell_type": "code",
   "execution_count": 79,
   "metadata": {},
   "outputs": [],
   "source": [
    "df = pd.read_csv(\"../data/clean/clean_encoded.csv\")"
   ]
  },
  {
   "cell_type": "code",
   "execution_count": 80,
   "metadata": {},
   "outputs": [
    {
     "data": {
      "text/html": [
       "<div>\n",
       "<style scoped>\n",
       "    .dataframe tbody tr th:only-of-type {\n",
       "        vertical-align: middle;\n",
       "    }\n",
       "\n",
       "    .dataframe tbody tr th {\n",
       "        vertical-align: top;\n",
       "    }\n",
       "\n",
       "    .dataframe thead th {\n",
       "        text-align: right;\n",
       "    }\n",
       "</style>\n",
       "<table border=\"1\" class=\"dataframe\">\n",
       "  <thead>\n",
       "    <tr style=\"text-align: right;\">\n",
       "      <th></th>\n",
       "      <th>age</th>\n",
       "      <th>campaign</th>\n",
       "      <th>pdays</th>\n",
       "      <th>previous</th>\n",
       "      <th>emp_var_rate</th>\n",
       "      <th>cons_price_idx</th>\n",
       "      <th>cons_conf_idx</th>\n",
       "      <th>euribor3m</th>\n",
       "      <th>nr_employed</th>\n",
       "      <th>y</th>\n",
       "      <th>...</th>\n",
       "      <th>month_oct</th>\n",
       "      <th>month_sep</th>\n",
       "      <th>day_of_week_fri</th>\n",
       "      <th>day_of_week_mon</th>\n",
       "      <th>day_of_week_thu</th>\n",
       "      <th>day_of_week_tue</th>\n",
       "      <th>day_of_week_wed</th>\n",
       "      <th>poutcome_failure</th>\n",
       "      <th>poutcome_nonexistent</th>\n",
       "      <th>poutcome_success</th>\n",
       "    </tr>\n",
       "  </thead>\n",
       "  <tbody>\n",
       "    <tr>\n",
       "      <th>0</th>\n",
       "      <td>56</td>\n",
       "      <td>1</td>\n",
       "      <td>231</td>\n",
       "      <td>0</td>\n",
       "      <td>11</td>\n",
       "      <td>93.994</td>\n",
       "      <td>364</td>\n",
       "      <td>4.857</td>\n",
       "      <td>51910</td>\n",
       "      <td>0</td>\n",
       "      <td>...</td>\n",
       "      <td>0</td>\n",
       "      <td>0</td>\n",
       "      <td>0</td>\n",
       "      <td>1</td>\n",
       "      <td>0</td>\n",
       "      <td>0</td>\n",
       "      <td>0</td>\n",
       "      <td>0</td>\n",
       "      <td>1</td>\n",
       "      <td>0</td>\n",
       "    </tr>\n",
       "    <tr>\n",
       "      <th>1</th>\n",
       "      <td>57</td>\n",
       "      <td>1</td>\n",
       "      <td>231</td>\n",
       "      <td>0</td>\n",
       "      <td>11</td>\n",
       "      <td>93.994</td>\n",
       "      <td>364</td>\n",
       "      <td>4.857</td>\n",
       "      <td>51910</td>\n",
       "      <td>0</td>\n",
       "      <td>...</td>\n",
       "      <td>0</td>\n",
       "      <td>0</td>\n",
       "      <td>0</td>\n",
       "      <td>1</td>\n",
       "      <td>0</td>\n",
       "      <td>0</td>\n",
       "      <td>0</td>\n",
       "      <td>0</td>\n",
       "      <td>1</td>\n",
       "      <td>0</td>\n",
       "    </tr>\n",
       "    <tr>\n",
       "      <th>2</th>\n",
       "      <td>37</td>\n",
       "      <td>1</td>\n",
       "      <td>231</td>\n",
       "      <td>0</td>\n",
       "      <td>11</td>\n",
       "      <td>93.994</td>\n",
       "      <td>364</td>\n",
       "      <td>4.857</td>\n",
       "      <td>51910</td>\n",
       "      <td>0</td>\n",
       "      <td>...</td>\n",
       "      <td>0</td>\n",
       "      <td>0</td>\n",
       "      <td>0</td>\n",
       "      <td>1</td>\n",
       "      <td>0</td>\n",
       "      <td>0</td>\n",
       "      <td>0</td>\n",
       "      <td>0</td>\n",
       "      <td>1</td>\n",
       "      <td>0</td>\n",
       "    </tr>\n",
       "    <tr>\n",
       "      <th>3</th>\n",
       "      <td>40</td>\n",
       "      <td>1</td>\n",
       "      <td>231</td>\n",
       "      <td>0</td>\n",
       "      <td>11</td>\n",
       "      <td>93.994</td>\n",
       "      <td>364</td>\n",
       "      <td>4.857</td>\n",
       "      <td>51910</td>\n",
       "      <td>0</td>\n",
       "      <td>...</td>\n",
       "      <td>0</td>\n",
       "      <td>0</td>\n",
       "      <td>0</td>\n",
       "      <td>1</td>\n",
       "      <td>0</td>\n",
       "      <td>0</td>\n",
       "      <td>0</td>\n",
       "      <td>0</td>\n",
       "      <td>1</td>\n",
       "      <td>0</td>\n",
       "    </tr>\n",
       "    <tr>\n",
       "      <th>4</th>\n",
       "      <td>56</td>\n",
       "      <td>1</td>\n",
       "      <td>231</td>\n",
       "      <td>0</td>\n",
       "      <td>11</td>\n",
       "      <td>93.994</td>\n",
       "      <td>364</td>\n",
       "      <td>4.857</td>\n",
       "      <td>51910</td>\n",
       "      <td>0</td>\n",
       "      <td>...</td>\n",
       "      <td>0</td>\n",
       "      <td>0</td>\n",
       "      <td>0</td>\n",
       "      <td>1</td>\n",
       "      <td>0</td>\n",
       "      <td>0</td>\n",
       "      <td>0</td>\n",
       "      <td>0</td>\n",
       "      <td>1</td>\n",
       "      <td>0</td>\n",
       "    </tr>\n",
       "  </tbody>\n",
       "</table>\n",
       "<p>5 rows × 63 columns</p>\n",
       "</div>"
      ],
      "text/plain": [
       "   age  campaign  pdays  previous  emp_var_rate  cons_price_idx  \\\n",
       "0   56         1    231         0            11          93.994   \n",
       "1   57         1    231         0            11          93.994   \n",
       "2   37         1    231         0            11          93.994   \n",
       "3   40         1    231         0            11          93.994   \n",
       "4   56         1    231         0            11          93.994   \n",
       "\n",
       "   cons_conf_idx  euribor3m  nr_employed  y  ...  month_oct  month_sep  \\\n",
       "0            364      4.857        51910  0  ...          0          0   \n",
       "1            364      4.857        51910  0  ...          0          0   \n",
       "2            364      4.857        51910  0  ...          0          0   \n",
       "3            364      4.857        51910  0  ...          0          0   \n",
       "4            364      4.857        51910  0  ...          0          0   \n",
       "\n",
       "   day_of_week_fri  day_of_week_mon  day_of_week_thu  day_of_week_tue  \\\n",
       "0                0                1                0                0   \n",
       "1                0                1                0                0   \n",
       "2                0                1                0                0   \n",
       "3                0                1                0                0   \n",
       "4                0                1                0                0   \n",
       "\n",
       "   day_of_week_wed  poutcome_failure  poutcome_nonexistent  poutcome_success  \n",
       "0                0                 0                     1                 0  \n",
       "1                0                 0                     1                 0  \n",
       "2                0                 0                     1                 0  \n",
       "3                0                 0                     1                 0  \n",
       "4                0                 0                     1                 0  \n",
       "\n",
       "[5 rows x 63 columns]"
      ]
     },
     "execution_count": 80,
     "metadata": {},
     "output_type": "execute_result"
    }
   ],
   "source": [
    "df.head()"
   ]
  },
  {
   "cell_type": "code",
   "execution_count": 81,
   "metadata": {},
   "outputs": [],
   "source": [
    "X = df.drop(\"y\", axis=1)\n",
    "y = df.y"
   ]
  },
  {
   "cell_type": "code",
   "execution_count": null,
   "metadata": {},
   "outputs": [],
   "source": []
  },
  {
   "cell_type": "code",
   "execution_count": null,
   "metadata": {},
   "outputs": [],
   "source": []
  },
  {
   "cell_type": "code",
   "execution_count": null,
   "metadata": {},
   "outputs": [],
   "source": []
  },
  {
   "cell_type": "code",
   "execution_count": 82,
   "metadata": {},
   "outputs": [],
   "source": [
    "rfc = RandomForestClassifier()\n",
    "score = cross_validate(rfc, X, y, cv=5, scoring=('accuracy', 'average_precision', 'recall','f1',\"roc_auc\", \"neg_log_loss\"), n_jobs=-1)"
   ]
  },
  {
   "cell_type": "code",
   "execution_count": 83,
   "metadata": {},
   "outputs": [
    {
     "data": {
      "text/plain": [
       "{'fit_time': array([2.90624475, 3.20151329, 3.26684213, 3.29464316, 3.31703997]),\n",
       " 'score_time': array([0.23522925, 0.25758791, 0.28787184, 0.20253181, 0.15688396]),\n",
       " 'test_accuracy': array([0.88732394, 0.3513054 , 0.47079539, 0.13649059, 0.14414086]),\n",
       " 'test_average_precision': array([0.09148352, 0.08146403, 0.08774248, 0.06918674, 0.07573022]),\n",
       " 'test_recall': array([0.        , 0.00431499, 0.01077586, 0.        , 1.        ]),\n",
       " 'test_f1': array([0.        , 0.00149533, 0.0045683 , 0.        , 0.20844564]),\n",
       " 'test_roc_auc': array([0.13486129, 0.02240581, 0.03163852, 0.02326462, 0.26879663]),\n",
       " 'test_neg_log_loss': array([ -2.95648958, -15.00802859,  -3.84021426, -17.35440517,\n",
       "        -10.53830707])}"
      ]
     },
     "execution_count": 83,
     "metadata": {},
     "output_type": "execute_result"
    }
   ],
   "source": [
    "score"
   ]
  },
  {
   "cell_type": "code",
   "execution_count": 84,
   "metadata": {},
   "outputs": [
    {
     "data": {
      "text/plain": [
       "0.3980112368198261"
      ]
     },
     "execution_count": 84,
     "metadata": {},
     "output_type": "execute_result"
    }
   ],
   "source": [
    "score[\"test_accuracy\"].mean()"
   ]
  },
  {
   "cell_type": "code",
   "execution_count": 85,
   "metadata": {},
   "outputs": [],
   "source": [
    "bgc = BaggingClassifier()\n",
    "score = cross_validate(bgc, X, y, cv=5, scoring=('accuracy', 'average_precision', 'recall','f1',\"roc_auc\", \"neg_log_loss\"), n_jobs=-1)"
   ]
  },
  {
   "cell_type": "code",
   "execution_count": 86,
   "metadata": {},
   "outputs": [
    {
     "data": {
      "text/plain": [
       "{'fit_time': array([1.342592  , 1.4279139 , 1.541188  , 1.73444295, 1.620754  ]),\n",
       " 'score_time': array([0.05914807, 0.05797315, 0.07025599, 0.0478189 , 0.05760217]),\n",
       " 'test_accuracy': array([0.88732394, 0.23217972, 0.25379478, 0.123983  , 0.14219794]),\n",
       " 'test_average_precision': array([0.11650073, 0.10345994, 0.10400751, 0.10926005, 0.11637823]),\n",
       " 'test_recall': array([0.        , 0.01186624, 0.01293103, 0.00323276, 1.        ]),\n",
       " 'test_f1': array([0.        , 0.0034673 , 0.00389042, 0.00083102, 0.20807175]),\n",
       " 'test_roc_auc': array([0.50215517, 0.03222038, 0.03975065, 0.02714427, 0.51785959]),\n",
       " 'test_neg_log_loss': array([ -3.87595272, -21.76940293, -16.13461007, -29.64102778,\n",
       "        -29.560448  ])}"
      ]
     },
     "execution_count": 86,
     "metadata": {},
     "output_type": "execute_result"
    }
   ],
   "source": [
    "score"
   ]
  },
  {
   "cell_type": "code",
   "execution_count": 87,
   "metadata": {},
   "outputs": [
    {
     "data": {
      "text/plain": [
       "0.32789587555692384"
      ]
     },
     "execution_count": 87,
     "metadata": {},
     "output_type": "execute_result"
    }
   ],
   "source": [
    "score[\"test_accuracy\"].mean()"
   ]
  },
  {
   "cell_type": "code",
   "execution_count": 88,
   "metadata": {},
   "outputs": [],
   "source": [
    "dtc = DecisionTreeClassifier()\n",
    "score = cross_validate(dtc, X, y, cv=5, scoring=('accuracy', 'average_precision', 'recall','f1',\"roc_auc\", \"neg_log_loss\"), n_jobs=-1)"
   ]
  },
  {
   "cell_type": "code",
   "execution_count": 89,
   "metadata": {},
   "outputs": [
    {
     "data": {
      "text/plain": [
       "{'fit_time': array([0.21811295, 0.2419982 , 0.24934006, 0.27375317, 0.23965883]),\n",
       " 'score_time': array([0.02523112, 0.02320194, 0.02201104, 0.01644802, 0.02247214]),\n",
       " 'test_accuracy': array([0.88744536, 0.13940498, 0.20461445, 0.11754706, 0.13721919]),\n",
       " 'test_average_precision': array([0.11363222, 0.11090241, 0.1099932 , 0.11196725, 0.11552347]),\n",
       " 'test_recall': array([0.00107759, 0.01510248, 0.0237069 , 0.00646552, 1.        ]),\n",
       " 'test_f1': array([0.00215285, 0.00393535, 0.00667273, 0.00164858, 0.20711974]),\n",
       " 'test_roc_auc': array([0.50053879, 0.08500268, 0.12523662, 0.06851617, 0.51382236]),\n",
       " 'test_neg_log_loss': array([ -3.88749948, -29.72466683, -27.46875505, -30.48013439,\n",
       "        -29.80008348])}"
      ]
     },
     "execution_count": 89,
     "metadata": {},
     "output_type": "execute_result"
    }
   ],
   "source": [
    "score"
   ]
  },
  {
   "cell_type": "code",
   "execution_count": 90,
   "metadata": {},
   "outputs": [
    {
     "data": {
      "text/plain": [
       "0.2972462065485895"
      ]
     },
     "execution_count": 90,
     "metadata": {},
     "output_type": "execute_result"
    }
   ],
   "source": [
    "score[\"test_accuracy\"].mean()"
   ]
  },
  {
   "cell_type": "code",
   "execution_count": 96,
   "metadata": {},
   "outputs": [],
   "source": [
    "knc = KNeighborsClassifier()\n",
    "score = cross_validate(knc, X, y, cv=5, scoring=('accuracy', 'average_precision', 'recall','f1',\"roc_auc\", \"neg_log_loss\"), n_jobs=-1)"
   ]
  },
  {
   "cell_type": "code",
   "execution_count": 97,
   "metadata": {},
   "outputs": [
    {
     "data": {
      "text/plain": [
       "{'fit_time': array([0.65540195, 0.46937799, 0.43440104, 0.62056589, 0.9013052 ]),\n",
       " 'score_time': array([1.22512317, 1.64025879, 1.95650315, 1.74488616, 1.52446198]),\n",
       " 'test_accuracy': array([0.88732394, 0.37802064, 0.79137826, 0.20510018, 0.39198543]),\n",
       " 'test_average_precision': array([0.12128157, 0.10438863, 0.10560767, 0.09729039, 0.22661783]),\n",
       " 'test_recall': array([0.        , 0.00107875, 0.00646552, 0.03771552, 1.        ]),\n",
       " 'test_f1': array([0.        , 0.00039032, 0.00693642, 0.01058041, 0.27043567]),\n",
       " 'test_roc_auc': array([0.50484914, 0.12418614, 0.19431075, 0.08422633, 0.78329   ]),\n",
       " 'test_neg_log_loss': array([ -3.85570914, -20.7713459 ,  -4.07092558, -26.885071  ,\n",
       "        -13.64281178])}"
      ]
     },
     "execution_count": 97,
     "metadata": {},
     "output_type": "execute_result"
    }
   ],
   "source": [
    "score"
   ]
  },
  {
   "cell_type": "code",
   "execution_count": 98,
   "metadata": {},
   "outputs": [
    {
     "data": {
      "text/plain": [
       "0.5307616921932323"
      ]
     },
     "execution_count": 98,
     "metadata": {},
     "output_type": "execute_result"
    }
   ],
   "source": [
    "score[\"test_accuracy\"].mean()"
   ]
  },
  {
   "cell_type": "markdown",
   "metadata": {},
   "source": [
    "KNeighboraClassifier seems to deliver the best results in terms of accuracy. So I try to optimize this classifier a bit."
   ]
  },
  {
   "cell_type": "code",
   "execution_count": 115,
   "metadata": {},
   "outputs": [
    {
     "name": "stdout",
     "output_type": "stream",
     "text": [
      "[0.5814477881252299, 0.6153275695459948, 0.673542505793718, 0.7047750498131473, 0.8198691603170938, 0.8397112975362802, 0.8403427486595346, 0.8412656387627525, 0.8398813036079256, 0.8408284802928072, 0.8426256873359159, 0.8429899860608703, 0.8429899860608703, 0.8429899860608703, 0.8429899860608703, 0.8429899860608703, 0.8429899860608703, 0.8430628458058612, 0.8430871323875249]\n"
     ]
    }
   ],
   "source": [
    "k_range = range(100, 2000, 100)\n",
    "k_scores = []\n",
    "for k in k_range:\n",
    "    knc = KNeighborsClassifier(n_neighbors=k)\n",
    "    score = cross_val_score(knc, X, y, cv=5, scoring=\"accuracy\", n_jobs=-1)\n",
    "    k_scores.append(score.mean())\n",
    "print(k_scores)"
   ]
  },
  {
   "cell_type": "code",
   "execution_count": 116,
   "metadata": {},
   "outputs": [
    {
     "data": {
      "text/plain": [
       "Text(0, 0.5, 'Cross-Validated Accuracy')"
      ]
     },
     "execution_count": 116,
     "metadata": {},
     "output_type": "execute_result"
    },
    {
     "data": {
      "image/png": "[encoded data removed]",
      "text/plain": [
       "<Figure size 432x288 with 1 Axes>"
      ]
     },
     "metadata": {
      "needs_background": "light"
     },
     "output_type": "display_data"
    }
   ],
   "source": [
    "import matplotlib.pyplot as plt\n",
    "%matplotlib inline\n",
    "\n",
    "plt.plot(k_range, k_scores)\n",
    "plt.xlabel(\"Value of neighbors for KNC\")\n",
    "plt.ylabel(\"Cross-Validated Accuracy\")"
   ]
  },
  {
   "cell_type": "markdown",
   "metadata": {},
   "source": [
    "As seen in the plot. A KNC with 700 neighbors would be a good choice. Higher numbers of neighbors won't lead to much improvement anymore."
   ]
  },
  {
   "cell_type": "code",
   "execution_count": 117,
   "metadata": {},
   "outputs": [],
   "source": [
    "X_train, X_test, y_train, y_test = train_test_split(X, y, test_size=0.2, random_state=42)"
   ]
  },
  {
   "cell_type": "code",
   "execution_count": 118,
   "metadata": {},
   "outputs": [
    {
     "data": {
      "text/plain": [
       "KNeighborsClassifier(algorithm='auto', leaf_size=30, metric='minkowski',\n",
       "                     metric_params=None, n_jobs=None, n_neighbors=700, p=2,\n",
       "                     weights='uniform')"
      ]
     },
     "execution_count": 118,
     "metadata": {},
     "output_type": "execute_result"
    }
   ],
   "source": [
    "knc = KNeighborsClassifier(n_neighbors=700)\n",
    "knc.fit(X_train, y_train)"
   ]
  },
  {
   "cell_type": "code",
   "execution_count": 119,
   "metadata": {},
   "outputs": [],
   "source": [
    "y_pred = knc.predict(X_test)"
   ]
  },
  {
   "cell_type": "code",
   "execution_count": 120,
   "metadata": {},
   "outputs": [
    {
     "data": {
      "text/plain": [
       "0.8935162700339971"
      ]
     },
     "execution_count": 120,
     "metadata": {},
     "output_type": "execute_result"
    }
   ],
   "source": [
    "accuracy_score(y_test, y_pred)"
   ]
  },
  {
   "cell_type": "code",
   "execution_count": 121,
   "metadata": {},
   "outputs": [
    {
     "data": {
      "text/plain": [
       "0.5689247644881182"
      ]
     },
     "execution_count": 121,
     "metadata": {},
     "output_type": "execute_result"
    }
   ],
   "source": [
    "roc_auc_score(y_test, y_pred)"
   ]
  },
  {
   "cell_type": "code",
   "execution_count": 122,
   "metadata": {},
   "outputs": [],
   "source": [
    "pickle.dump(knc, open('../models/KNeighborsClassifier.model', 'wb'))"
   ]
  },
  {
   "cell_type": "code",
   "execution_count": null,
   "metadata": {},
   "outputs": [],
   "source": []
  },
  {
   "cell_type": "code",
   "execution_count": null,
   "metadata": {},
   "outputs": [],
   "source": [
    "importance = rfpimp.importances(knc, X_train, y_train)\n",
    "rfpimp.plot_importances(importance)"
   ]
  },
  {
   "cell_type": "code",
   "execution_count": null,
   "metadata": {},
   "outputs": [],
   "source": []
  },
  {
   "cell_type": "code",
   "execution_count": 11,
   "metadata": {},
   "outputs": [],
   "source": [
    "loaded_rfc = pickle.load(open('../models/RandomForestClassifier.model', 'rb'))"
   ]
  },
  {
   "cell_type": "code",
   "execution_count": null,
   "metadata": {},
   "outputs": [],
   "source": [
    "sample = [\"...\"]"
   ]
  },
  {
   "cell_type": "code",
   "execution_count": null,
   "metadata": {},
   "outputs": [],
   "source": [
    "loaded_rfc.predict([sample])"
   ]
  },
  {
   "cell_type": "code",
   "execution_count": null,
   "metadata": {},
   "outputs": [],
   "source": []
  },
  {
   "cell_type": "code",
   "execution_count": null,
   "metadata": {},
   "outputs": [],
   "source": []
  },
  {
   "cell_type": "code",
   "execution_count": null,
   "metadata": {},
   "outputs": [],
   "source": []
  },
  {
   "cell_type": "code",
   "execution_count": null,
   "metadata": {},
   "outputs": [],
   "source": []
  },
  {
   "cell_type": "code",
   "execution_count": null,
   "metadata": {},
   "outputs": [],
   "source": []
  },
  {
   "cell_type": "code",
   "execution_count": null,
   "metadata": {},
   "outputs": [],
   "source": []
  },
  {
   "cell_type": "code",
   "execution_count": null,
   "metadata": {},
   "outputs": [],
   "source": []
  },
  {
   "cell_type": "code",
   "execution_count": null,
   "metadata": {},
   "outputs": [],
   "source": []
  }
 ],
 "metadata": {
  "kernelspec": {
   "display_name": "Python 3",
   "language": "python",
   "name": "python3"
  },
  "language_info": {
   "codemirror_mode": {
    "name": "ipython",
    "version": 3
   },
   "file_extension": ".py",
   "mimetype": "text/x-python",
   "name": "python",
   "nbconvert_exporter": "python",
   "pygments_lexer": "ipython3",
   "version": "3.6.10"
  }
 },
 "nbformat": 4,
 "nbformat_minor": 4
}
